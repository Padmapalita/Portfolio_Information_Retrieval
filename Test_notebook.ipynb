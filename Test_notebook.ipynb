{
 "cells": [
  {
   "cell_type": "code",
   "execution_count": 1,
   "id": "d5000ee1",
   "metadata": {},
   "outputs": [],
   "source": [
    "# can you edit this tom?\n",
    "\n",
    "#i have been able to edit from VScode"
   ]
  },
  {
   "cell_type": "code",
   "execution_count": 2,
   "id": "711b9540",
   "metadata": {},
   "outputs": [],
   "source": [
    "#I am now updating a copy"
   ]
  },
  {
   "cell_type": "code",
   "execution_count": 3,
   "id": "b40fdff6",
   "metadata": {},
   "outputs": [],
   "source": [
    "# yes seems like it's working :-)\n",
    "#  hopefully it loads back up..."
   ]
  },
  {
   "cell_type": "code",
   "execution_count": 4,
   "id": "c6a0e298",
   "metadata": {},
   "outputs": [],
   "source": [
    "# a modified code from first_branch"
   ]
  },
  {
   "cell_type": "code",
   "execution_count": 5,
   "id": "b40fdff6",
   "metadata": {},
   "outputs": [],
   "source": [
    "# yes seems like it's working :-)\n",
    "#  hopefully it loads back up..."
   ]
  },
  {
   "cell_type": "code",
   "execution_count": 6,
   "id": "6a8e79ee",
   "metadata": {},
   "outputs": [],
   "source": [
    "# update from maria to check that this is working - can everyone see this?\n",
    "# Anna - I can and edit in VS"
   ]
  },
  {
   "cell_type": "code",
   "execution_count": null,
   "id": "4280a656",
   "metadata": {},
   "outputs": [],
   "source": [
    "import pandas as pd\n",
    "from google.colab import drive\n",
    "drive.mount('/content/drive')"
   ]
  },
  {
   "cell_type": "code",
   "execution_count": null,
   "id": "1dd18cc6",
   "metadata": {},
   "outputs": [],
   "source": [
    "def get_qrels(filename):\n",
    "  # read the file from TrEC that contains the relevance scores\n",
    "  with open(filename) as f:\n",
    "      contents = f.read()\n",
    "  # shorten the episode ID and split the time segment into seperate field\n",
    "  lines = contents.replace('spotify:episode:','').replace('_','\\t').split(\"\\n\")\n",
    "  data = [line.split('\\t') for line in lines]\n",
    "  # create dataframe and remove the second column which seems to have no value\n",
    "  df = pd.DataFrame(data,columns = ['query_id', 'useless','episode','segment','relevance'])\n",
    "  df = df.drop('useless', axis=1)\n",
    "  df['relevance'] = df['relevance'].astype(int)\n",
    "  # the relevance scores are on scale 0-4, instead consider if it is relevant or not\n",
    "  df['binary'] = df['relevance'] > 0\n",
    "  df['binary'] = df['binary'].astype(int)\n",
    "  # if an episode has relevance at 'some' point then consider the whole episode to be relevant\n",
    "  df2 = df.groupby(['episode','query_id'])['binary'].max()\n",
    "  # adjusting the datagrame into a list with (query_id, document_id, judgement)\n",
    "  cols = ['query_id', 'episode', 'binary']\n",
    "  df2 = df2.reset_index()\n",
    "  df2['query_id'] = df2['query_id'].astype(int)\n",
    "  qrels = df2[cols].values.tolist()\n",
    "  return qrels\n",
    "get_qrels('/content/drive/MyDrive/Colab Notebooks/IR/Files/train_qrels.txt')[0]"
   ]
  },
  {
   "cell_type": "code",
   "execution_count": null,
   "id": "ae997004",
   "metadata": {},
   "outputs": [],
   "source": [
    "def get_queries(filename):\n",
    "  # read the file from TrEC that contains the query titles\n",
    "  with open(filename) as f:\n",
    "    contents = f.read()\n",
    "  from bs4 import BeautifulSoup\n",
    "  soup = BeautifulSoup(contents, 'xml')\n",
    "  query_list = [query.text for query in soup.find_all('description')]\n",
    "  # put the queries into a dictionary but need to start numbering at 1\n",
    "  queries = {i+1: val for i, val in enumerate(query_list)}\n",
    "  return queries\n",
    "get_queries('/content/drive/MyDrive/Colab Notebooks/IR/Files/train_topics.xml')"
   ]
  }
 ],
 "metadata": {
  "kernelspec": {
   "display_name": "Python 3",
   "language": "python",
   "name": "python3"
  },
  "language_info": {
   "codemirror_mode": {
    "name": "ipython",
    "version": 3
   },
   "file_extension": ".py",
   "mimetype": "text/x-python",
   "name": "python",
   "nbconvert_exporter": "python",
   "pygments_lexer": "ipython3",
   "version": "3.9.12"
  },
  "vscode": {
   "interpreter": {
    "hash": "aee8b7b246df8f9039afb4144a1f6fd8d2ca17a180786b69acc140d282b71a49"
   }
  }
 },
 "nbformat": 4,
 "nbformat_minor": 5
}
