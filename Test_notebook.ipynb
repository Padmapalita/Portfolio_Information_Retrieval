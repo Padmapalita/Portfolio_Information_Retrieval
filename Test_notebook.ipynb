{
 "cells": [
  {
   "cell_type": "code",
   "execution_count": null,
   "id": "d5000ee1",
   "metadata": {},
   "outputs": [],
   "source": [
    "# can you edit this tom?\n",
    "\n",
    "#i have been able to edit from VScode"
   ]
  },
  {
   "cell_type": "code",
   "execution_count": null,
   "id": "711b9540",
   "metadata": {},
   "outputs": [],
   "source": [
    "#I am now updating a copy"
   ]
  },
  {
   "cell_type": "code",
   "execution_count": null,
   "id": "b40fdff6",
   "metadata": {},
   "outputs": [],
   "source": [
    "# yes seems like it's working :-)\n",
    "#  hopefully it loads back up..."
   ]
  },
  {
   "cell_type": "code",
   "execution_count": null,
   "id": "c6a0e298",
   "metadata": {},
   "outputs": [],
   "source": [
    "# a modified code from first_branch"
   ]
  }
 ],
 "metadata": {
  "kernelspec": {
   "display_name": "Python 3",
   "language": "python",
   "name": "python3"
  },
  "language_info": {
   "codemirror_mode": {
    "name": "ipython",
    "version": 3
   },
   "file_extension": ".py",
   "mimetype": "text/x-python",
   "name": "python",
   "nbconvert_exporter": "python",
   "pygments_lexer": "ipython3",
   "version": "3.10.10"
  },
  "vscode": {
   "interpreter": {
    "hash": "b0fa6594d8f4cbf19f97940f81e996739fb7646882a419484c72d19e05852a7e"
   }
  }
 },
 "nbformat": 4,
 "nbformat_minor": 5
}
