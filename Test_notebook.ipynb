{
 "cells": [
  {
   "cell_type": "code",
   "execution_count": 1,
   "id": "d5000ee1",
   "metadata": {},
   "outputs": [],
   "source": [
    "# can you edit this tom?\n",
    "\n",
    "#i have been able to edit from VScode"
   ]
  },
  {
   "cell_type": "code",
   "execution_count": 2,
   "id": "711b9540",
   "metadata": {},
   "outputs": [],
   "source": [
    "#I am now updating a copy"
   ]
  },
  {
   "cell_type": "code",
   "execution_count": 3,
   "id": "b40fdff6",
   "metadata": {},
   "outputs": [],
   "source": [
    "# yes seems like it's working :-)\n",
    "#  hopefully it loads back up..."
   ]
  },
  {
   "cell_type": "code",
   "execution_count": 4,
   "id": "c6a0e298",
   "metadata": {},
   "outputs": [],
   "source": [
    "# a modified code from first_branch"
   ]
  },
  {
   "cell_type": "code",
   "execution_count": 5,
   "id": "b40fdff6",
   "metadata": {},
   "outputs": [],
   "source": [
    "# yes seems like it's working :-)\n",
    "#  hopefully it loads back up..."
   ]
  },
  {
   "cell_type": "code",
   "execution_count": 6,
   "id": "6a8e79ee",
   "metadata": {},
   "outputs": [],
   "source": [
    "# update from maria to check that this is working - can everyone see this?\n",
    "# Anna - I can and edit in VS"
   ]
  }
 ],
 "metadata": {
  "kernelspec": {
   "display_name": "Python 3",
   "language": "python",
   "name": "python3"
  },
  "language_info": {
   "codemirror_mode": {
    "name": "ipython",
    "version": 3
   },
   "file_extension": ".py",
   "mimetype": "text/x-python",
   "name": "python",
   "nbconvert_exporter": "python",
   "pygments_lexer": "ipython3",
   "version": "3.9.12"
  },
  "vscode": {
   "interpreter": {
    "hash": "aee8b7b246df8f9039afb4144a1f6fd8d2ca17a180786b69acc140d282b71a49"
   }
  }
 },
 "nbformat": 4,
 "nbformat_minor": 5
}
