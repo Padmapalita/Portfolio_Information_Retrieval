{
 "cells": [
  {
   "cell_type": "code",
   "execution_count": 4,
   "id": "4280a656",
   "metadata": {},
   "outputs": [
    {
     "data": {
      "text/plain": [
       "[[7, '02cvhI2v4wORCGTvWQxF7P', 0],\n",
       " [8, '03G8qxp2IYaaX1RqYFwPs9', 0],\n",
       " [7, '04536ZKxCGV88Yj0TT0oYM', 0],\n",
       " [7, '047y46T88lyQEHIEEVWxgy', 0],\n",
       " [6, '04P7on6BaQikQsMmTVlMNB', 1]]"
      ]
     },
     "execution_count": 4,
     "metadata": {},
     "output_type": "execute_result"
    }
   ],
   "source": [
    "import pandas as pd\n",
    "def get_qrels(filename):\n",
    "  # read the file from TrEC that contains the relevance scores\n",
    "  with open(filename) as f:\n",
    "      contents = f.read()\n",
    "  # shorten the episode ID and split the time segment into seperate field\n",
    "  lines = contents.replace('spotify:episode:','').replace('_','\\t').split(\"\\n\")\n",
    "  data = [line.split('\\t') for line in lines]\n",
    "  # create dataframe and remove the second column which seems to have no value\n",
    "  df = pd.DataFrame(data,columns = ['query_id', 'useless','episode','segment','relevance'])\n",
    "  df = df.drop('useless', axis=1)\n",
    "  df['relevance'] = df['relevance'].astype(int)\n",
    "  # the relevance scores are on scale 0-4, instead consider if it is relevant or not\n",
    "  df['binary'] = df['relevance'] > 0\n",
    "  df['binary'] = df['binary'].astype(int)\n",
    "  # if an episode has relevance at 'some' point then consider the whole episode to be relevant\n",
    "  df2 = df.groupby(['episode','query_id'])['binary'].max()\n",
    "  # adjusting the dataframe into a list with (query_id, document_id, judgement)\n",
    "  cols = ['query_id', 'episode', 'binary']\n",
    "  df2 = df2.reset_index()\n",
    "  df2['query_id'] = df2['query_id'].astype(int)\n",
    "  qrels = df2[cols].values.tolist()\n",
    "  return qrels\n",
    "qrels = get_qrels('/workspaces/Spotify_Information_Retrieval/Files/2020_train_qrels.list.txt')\n",
    "qrels[:5]\n"
   ]
  }
 ],
 "metadata": {
  "kernelspec": {
   "display_name": "Python 3",
   "language": "python",
   "name": "python3"
  },
  "language_info": {
   "codemirror_mode": {
    "name": "ipython",
    "version": 3
   },
   "file_extension": ".py",
   "mimetype": "text/x-python",
   "name": "python",
   "nbconvert_exporter": "python",
   "pygments_lexer": "ipython3",
   "version": "3.10.4"
  },
  "vscode": {
   "interpreter": {
    "hash": "aee8b7b246df8f9039afb4144a1f6fd8d2ca17a180786b69acc140d282b71a49"
   }
  }
 },
 "nbformat": 4,
 "nbformat_minor": 5
}
